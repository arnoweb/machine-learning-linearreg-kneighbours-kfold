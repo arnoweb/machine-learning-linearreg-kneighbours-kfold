{
 "cells": [
  {
   "cell_type": "markdown",
   "metadata": {},
   "source": [
    "# Regression logistique"
   ]
  },
  {
   "cell_type": "code",
   "execution_count": 19,
   "metadata": {},
   "outputs": [
    {
     "name": "stdout",
     "output_type": "stream",
     "text": [
      "(644, 3)\n",
      "float64    2\n",
      "int64      1\n",
      "dtype: int64\n"
     ]
    },
    {
     "data": {
      "text/plain": [
       "Text(0, 0.5, 'Admit')"
      ]
     },
     "execution_count": 19,
     "metadata": {},
     "output_type": "execute_result"
    },
    {
     "data": {
      "image/png": "[encoded data removed]",
      "text/plain": [
       "<Figure size 432x288 with 1 Axes>"
      ]
     },
     "metadata": {
      "needs_background": "light"
     },
     "output_type": "display_data"
    }
   ],
   "source": [
    "import pandas as pd\n",
    "import numpy as np\n",
    "import matplotlib.pyplot as plt\n",
    "from sklearn.linear_model import LogisticRegression\n",
    "\n",
    "data = pd.read_csv(\"admissions.csv\",delimiter=\",\")\n",
    "\n",
    "data.head()\n",
    "print(data.shape)\n",
    "print(data.dtypes.value_counts())\n",
    "\n",
    "gpa   = data[\"gpa\"]\n",
    "admit = data[\"admit\"]\n",
    "\n",
    "x = gpa\n",
    "y = admit\n",
    "plt.scatter(x,y)\n",
    "plt.xlabel(\"GPA\")\n",
    "plt.ylabel(\"Admit\") "
   ]
  },
  {
   "cell_type": "code",
   "execution_count": 25,
   "metadata": {},
   "outputs": [
    {
     "data": {
      "text/plain": [
       "<matplotlib.collections.PathCollection at 0x120725a30>"
      ]
     },
     "execution_count": 25,
     "metadata": {},
     "output_type": "execute_result"
    },
    {
     "data": {
      "image/png": "[encoded data removed]",
      "text/plain": [
       "<Figure size 432x288 with 1 Axes>"
      ]
     },
     "metadata": {
      "needs_background": "light"
     },
     "output_type": "display_data"
    }
   ],
   "source": [
    "#Le paramètre solver est utile pour les petits dataset\n",
    "logistic_model = LogisticRegression(solver=\"liblinear\")\n",
    "logistic_model.fit(data[[\"gpa\"]],admit)\n",
    "\n",
    "#calcul des probabilités que la ligne appartienne au label 1\n",
    "prob = logistic_model.predict_proba(data[[\"gpa\"]])\n",
    "plt.scatter(gpa, prob[:,1] )"
   ]
  },
  {
   "cell_type": "code",
   "execution_count": 33,
   "metadata": {},
   "outputs": [
    {
     "name": "stdout",
     "output_type": "stream",
     "text": [
      "0    598\n",
      "1     46\n",
      "Name: predicted_label, dtype: int64\n",
      "0.6459627329192547\n"
     ]
    }
   ],
   "source": [
    "#Prediction des libellés\n",
    "fitted_labels = logistic_model.predict(data[[\"gpa\"]])\n",
    "\n",
    "#création colonne\n",
    "data[\"predicted_label\"] = fitted_labels\n",
    "\n",
    "print(data[\"predicted_label\"].value_counts())\n",
    "\n",
    "#vérification de la précision de la prediction, nombre de libellés corrects par le nombre d'observation\n",
    "data[\"actual_label\"] = admit\n",
    "matches = data[\"predicted_label\"] == data[\"actual_label\"]\n",
    "correct_predictions = data[matches]\n",
    "correct_predictions.head()\n",
    "accuracy = len(correct_predictions) / len(data)\n",
    "print(accuracy)\n",
    "#on prend les 10 premières valeurs\n",
    "#fitted_labels[:10]\n",
    "#plt.scatter(gpa, fitted_labels)\n"
   ]
  },
  {
   "cell_type": "markdown",
   "metadata": {},
   "source": [
    "### Classification binaire"
   ]
  },
  {
   "cell_type": "code",
   "execution_count": 43,
   "metadata": {},
   "outputs": [
    {
     "name": "stdout",
     "output_type": "stream",
     "text": [
      "31\n",
      "385\n",
      "213\n",
      "15\n",
      "0.12704918032786885\n"
     ]
    }
   ],
   "source": [
    "#on a bien prédit dans 31 cas que le candidat serait accepté\n",
    "true_positive = (data[\"predicted_label\"] == 1) & (data[\"actual_label\"] == 1)\n",
    "true_positives = len(data[true_positive])\n",
    "\n",
    "#on a bien prédit dans 385 cas candidat serait rejetté\n",
    "true_negative = (data[\"predicted_label\"] == 0) & (data[\"actual_label\"] == 0)\n",
    "true_negatives = len(data[true_negative])\n",
    "\n",
    "#on a bien prédit dans 213 cas que le candidat serait rejetté par le modèle alors que l'étudiant a été admis\n",
    "false_negative = (data[\"predicted_label\"] == 0) & (data[\"actual_label\"] == 1)\n",
    "false_negatives = len(data[false_negative])\n",
    "\n",
    "\n",
    "false_positive = (data[\"predicted_label\"] == 1) & (data[\"actual_label\"] == 0)\n",
    "false_positives = len(data[false_positive])\n",
    "\n",
    "print(true_positives)\n",
    "print(true_negatives)\n",
    "print(false_negatives)\n",
    "print(false_positives)\n",
    "\n",
    "#Dans quelle mesure ce modèle identifie des résultats positifs ?\n",
    "#On obtient 12% environ des cas positifs, cela signifie que 1 éléve sur 8 qui aurait dû être admis a été effectivement admis\n",
    "sensitivity = true_positives / (true_positives + false_negatives)\n",
    "print(sensitivity)\n"
   ]
  },
  {
   "cell_type": "markdown",
   "metadata": {},
   "source": [
    "### Calcul du True Negative Rate - TNR"
   ]
  },
  {
   "cell_type": "code",
   "execution_count": 44,
   "metadata": {},
   "outputs": [
    {
     "name": "stdout",
     "output_type": "stream",
     "text": [
      "0.9625\n"
     ]
    }
   ],
   "source": [
    "#dans quelle mesure ce modèle identifie les résultats négatifs, condidats qui devraient être rejettés ?\n",
    "#Le modèle est efficace pour savoir quel candidat rejetté : 96,25% \n",
    "specificity = (true_negatives) / (false_positives + true_negatives)\n",
    "print(specificity)"
   ]
  },
  {
   "cell_type": "code",
   "execution_count": null,
   "metadata": {},
   "outputs": [],
   "source": []
  }
 ],
 "metadata": {
  "kernelspec": {
   "display_name": "Python 3",
   "language": "python",
   "name": "python3"
  },
  "language_info": {
   "codemirror_mode": {
    "name": "ipython",
    "version": 3
   },
   "file_extension": ".py",
   "mimetype": "text/x-python",
   "name": "python",
   "nbconvert_exporter": "python",
   "pygments_lexer": "ipython3",
   "version": "3.8.3"
  }
 },
 "nbformat": 4,
 "nbformat_minor": 4
}

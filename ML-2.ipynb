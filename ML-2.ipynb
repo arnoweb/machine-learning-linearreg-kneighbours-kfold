{
 "cells": [
  {
   "cell_type": "code",
   "execution_count": 24,
   "metadata": {},
   "outputs": [],
   "source": [
    "import numpy as np\n",
    "import pandas as pd\n",
    "pd.options.mode.chained_assignment = None"
   ]
  },
  {
   "cell_type": "code",
   "execution_count": 3,
   "metadata": {},
   "outputs": [],
   "source": [
    "airbnb = pd.read_csv('paris_airbnb_2.csv')"
   ]
  },
  {
   "cell_type": "code",
   "execution_count": 4,
   "metadata": {},
   "outputs": [
    {
     "data": {
      "text/plain": [
       "pandas.core.frame.DataFrame"
      ]
     },
     "execution_count": 4,
     "metadata": {},
     "output_type": "execute_result"
    }
   ],
   "source": [
    "type(airbnb)"
   ]
  },
  {
   "cell_type": "code",
   "execution_count": 7,
   "metadata": {},
   "outputs": [
    {
     "data": {
      "text/plain": [
       "host_response_rate                 100%\n",
       "host_acceptance_rate                NaN\n",
       "host_listings_count                   1\n",
       "latitude                        48.8335\n",
       "longitude                       2.31852\n",
       "city                              Paris\n",
       "zipcode                           75014\n",
       "state                     Île-de-France\n",
       "accommodates                          2\n",
       "room_type               Entire home/apt\n",
       "bedrooms                              0\n",
       "bathrooms                             1\n",
       "beds                                  0\n",
       "price                            $75.00\n",
       "cleaning_fee                     $50.00\n",
       "security_deposit                  $0.00\n",
       "minimum_nights                        3\n",
       "maximum_nights                       15\n",
       "number_of_reviews                     8\n",
       "Name: 0, dtype: object"
      ]
     },
     "execution_count": 7,
     "metadata": {},
     "output_type": "execute_result"
    }
   ],
   "source": [
    "airbnb.iloc[0]"
   ]
  },
  {
   "cell_type": "code",
   "execution_count": 9,
   "metadata": {},
   "outputs": [
    {
     "name": "stdout",
     "output_type": "stream",
     "text": [
      "1\n"
     ]
    }
   ],
   "source": [
    "our_acc_value = 3\n",
    "first_living_space_value = airbnb.iloc[0]['accommodates']\n",
    "first_distance = np.abs(first_living_space_value - our_acc_value)\n",
    "print(first_distance)"
   ]
  },
  {
   "cell_type": "code",
   "execution_count": 13,
   "metadata": {},
   "outputs": [
    {
     "name": "stdout",
     "output_type": "stream",
     "text": [
      "1     5665\n",
      "0      878\n",
      "2      726\n",
      "3      508\n",
      "4       88\n",
      "5       82\n",
      "6       18\n",
      "7       14\n",
      "9        8\n",
      "11       4\n",
      "8        4\n",
      "13       3\n",
      "10       2\n",
      "Name: distance, dtype: int64\n"
     ]
    }
   ],
   "source": [
    "new_listing = 3\n",
    "airbnb['distance'] = airbnb['accommodates'].apply(lambda x:np.abs(x - new_listing))\n",
    "print(airbnb['distance'].value_counts())"
   ]
  },
  {
   "cell_type": "code",
   "execution_count": 14,
   "metadata": {},
   "outputs": [
    {
     "data": {
      "text/plain": [
       "3       3\n",
       "7       3\n",
       "13      3\n",
       "14      3\n",
       "18      3\n",
       "       ..\n",
       "7907    3\n",
       "7938    3\n",
       "7948    3\n",
       "7958    3\n",
       "7989    3\n",
       "Name: accommodates, Length: 878, dtype: int64"
      ]
     },
     "execution_count": 14,
     "metadata": {},
     "output_type": "execute_result"
    }
   ],
   "source": [
    "airbnb[airbnb['distance'] == 0]['accommodates']"
   ]
  },
  {
   "cell_type": "code",
   "execution_count": 19,
   "metadata": {},
   "outputs": [
    {
     "data": {
      "text/plain": [
       "1956     $80.00\n",
       "3735     $67.00\n",
       "6944     $36.00\n",
       "2094    $120.00\n",
       "2968     $60.00\n",
       "845     $200.00\n",
       "6083     $95.00\n",
       "5970     $95.00\n",
       "2992     $76.00\n",
       "3179    $100.00\n",
       "Name: price, dtype: object"
      ]
     },
     "execution_count": 19,
     "metadata": {},
     "output_type": "execute_result"
    }
   ],
   "source": [
    "np.random.seed(1)\n",
    "airbnb = airbnb.loc[np.random.permutation(len(airbnb))]\n",
    "airbnb = airbnb.sort_values('distance')\n",
    "airbnb.iloc[0:10]['price']"
   ]
  },
  {
   "cell_type": "code",
   "execution_count": 20,
   "metadata": {},
   "outputs": [
    {
     "name": "stdout",
     "output_type": "stream",
     "text": [
      "72.6\n"
     ]
    }
   ],
   "source": [
    "stripped_commas = airbnb[\"price\"].str.replace(',','')\n",
    "stripped_dollars = stripped_commas.str.replace('$','')\n",
    "airbnb['price'] = stripped_dollars.astype('float')\n",
    "mean_price = airbnb.iloc[0:5]['price'].mean()\n",
    "print(mean_price)"
   ]
  },
  {
   "cell_type": "code",
   "execution_count": 30,
   "metadata": {},
   "outputs": [
    {
     "name": "stdout",
     "output_type": "stream",
     "text": [
      "48.2\n",
      "98.4\n",
      "138.0\n"
     ]
    }
   ],
   "source": [
    "airbnb = airbnb.loc[np.random.permutation(len(airbnb))]\n",
    "\n",
    "train_df = airbnb.iloc[0:6000] \n",
    "test_df  = airbnb.iloc[6000:]\n",
    "\n",
    "\n",
    "def predict_price(new_listing):\n",
    "    temp_df = train_df.copy()\n",
    "    temp_df['distance'] = temp_df['accommodates'].apply(lambda x:np.abs(x - new_listing))\n",
    "    temp_df = temp_df.sort_values('distance')\n",
    "    nearest_neighbors = temp_df.iloc[0:5]['price']\n",
    "    predicted_price = nearest_neighbors.mean()\n",
    "    return(predicted_price)\n",
    "  \n",
    "acc_one = predict_price(1)\n",
    "acc_two = predict_price(2)\n",
    "acc_four = predict_price(4)\n",
    "\n",
    "print(acc_one)\n",
    "print(acc_two)\n",
    "print(acc_four)\n"
   ]
  },
  {
   "cell_type": "code",
   "execution_count": 31,
   "metadata": {},
   "outputs": [],
   "source": [
    "test_df['predicted_price'] = test_df['accommodates'].apply(lambda x:predict_price(x))"
   ]
  },
  {
   "cell_type": "code",
   "execution_count": 32,
   "metadata": {},
   "outputs": [
    {
     "data": {
      "text/html": [
       "<div>\n",
       "<style scoped>\n",
       "    .dataframe tbody tr th:only-of-type {\n",
       "        vertical-align: middle;\n",
       "    }\n",
       "\n",
       "    .dataframe tbody tr th {\n",
       "        vertical-align: top;\n",
       "    }\n",
       "\n",
       "    .dataframe thead th {\n",
       "        text-align: right;\n",
       "    }\n",
       "</style>\n",
       "<table border=\"1\" class=\"dataframe\">\n",
       "  <thead>\n",
       "    <tr style=\"text-align: right;\">\n",
       "      <th></th>\n",
       "      <th>host_response_rate</th>\n",
       "      <th>host_acceptance_rate</th>\n",
       "      <th>host_listings_count</th>\n",
       "      <th>latitude</th>\n",
       "      <th>longitude</th>\n",
       "      <th>city</th>\n",
       "      <th>zipcode</th>\n",
       "      <th>state</th>\n",
       "      <th>accommodates</th>\n",
       "      <th>room_type</th>\n",
       "      <th>...</th>\n",
       "      <th>bathrooms</th>\n",
       "      <th>beds</th>\n",
       "      <th>price</th>\n",
       "      <th>cleaning_fee</th>\n",
       "      <th>security_deposit</th>\n",
       "      <th>minimum_nights</th>\n",
       "      <th>maximum_nights</th>\n",
       "      <th>number_of_reviews</th>\n",
       "      <th>distance</th>\n",
       "      <th>predicted_price</th>\n",
       "    </tr>\n",
       "  </thead>\n",
       "  <tbody>\n",
       "    <tr>\n",
       "      <th>3337</th>\n",
       "      <td>NaN</td>\n",
       "      <td>NaN</td>\n",
       "      <td>1.0</td>\n",
       "      <td>48.83049</td>\n",
       "      <td>2.32686</td>\n",
       "      <td>Paris</td>\n",
       "      <td>75014</td>\n",
       "      <td>Paris</td>\n",
       "      <td>2</td>\n",
       "      <td>Entire home/apt</td>\n",
       "      <td>...</td>\n",
       "      <td>1.0</td>\n",
       "      <td>1.0</td>\n",
       "      <td>85.0</td>\n",
       "      <td>$40.00</td>\n",
       "      <td>$500.00</td>\n",
       "      <td>5</td>\n",
       "      <td>20</td>\n",
       "      <td>33</td>\n",
       "      <td>1</td>\n",
       "      <td>98.4</td>\n",
       "    </tr>\n",
       "    <tr>\n",
       "      <th>2447</th>\n",
       "      <td>80%</td>\n",
       "      <td>NaN</td>\n",
       "      <td>2.0</td>\n",
       "      <td>48.85191</td>\n",
       "      <td>2.39058</td>\n",
       "      <td>Paris</td>\n",
       "      <td>75011</td>\n",
       "      <td>Île-de-France</td>\n",
       "      <td>3</td>\n",
       "      <td>Entire home/apt</td>\n",
       "      <td>...</td>\n",
       "      <td>1.0</td>\n",
       "      <td>1.0</td>\n",
       "      <td>95.0</td>\n",
       "      <td>$100.00</td>\n",
       "      <td>$350.00</td>\n",
       "      <td>12</td>\n",
       "      <td>1125</td>\n",
       "      <td>1</td>\n",
       "      <td>0</td>\n",
       "      <td>90.4</td>\n",
       "    </tr>\n",
       "    <tr>\n",
       "      <th>2159</th>\n",
       "      <td>NaN</td>\n",
       "      <td>NaN</td>\n",
       "      <td>1.0</td>\n",
       "      <td>48.82794</td>\n",
       "      <td>2.32615</td>\n",
       "      <td>Paris</td>\n",
       "      <td>75014</td>\n",
       "      <td>Île-de-France</td>\n",
       "      <td>3</td>\n",
       "      <td>Entire home/apt</td>\n",
       "      <td>...</td>\n",
       "      <td>1.0</td>\n",
       "      <td>2.0</td>\n",
       "      <td>75.0</td>\n",
       "      <td>$0.00</td>\n",
       "      <td>$150.00</td>\n",
       "      <td>35</td>\n",
       "      <td>62</td>\n",
       "      <td>2</td>\n",
       "      <td>0</td>\n",
       "      <td>90.4</td>\n",
       "    </tr>\n",
       "    <tr>\n",
       "      <th>6071</th>\n",
       "      <td>NaN</td>\n",
       "      <td>NaN</td>\n",
       "      <td>1.0</td>\n",
       "      <td>48.84953</td>\n",
       "      <td>2.32997</td>\n",
       "      <td>Paris</td>\n",
       "      <td>75007</td>\n",
       "      <td>Île-de-France</td>\n",
       "      <td>5</td>\n",
       "      <td>Entire home/apt</td>\n",
       "      <td>...</td>\n",
       "      <td>1.0</td>\n",
       "      <td>2.0</td>\n",
       "      <td>110.0</td>\n",
       "      <td>$40.00</td>\n",
       "      <td>$200.00</td>\n",
       "      <td>1</td>\n",
       "      <td>1125</td>\n",
       "      <td>84</td>\n",
       "      <td>2</td>\n",
       "      <td>149.6</td>\n",
       "    </tr>\n",
       "    <tr>\n",
       "      <th>4175</th>\n",
       "      <td>NaN</td>\n",
       "      <td>NaN</td>\n",
       "      <td>1.0</td>\n",
       "      <td>48.82022</td>\n",
       "      <td>2.35602</td>\n",
       "      <td>Paris</td>\n",
       "      <td>75013</td>\n",
       "      <td>Île-de-France</td>\n",
       "      <td>5</td>\n",
       "      <td>Entire home/apt</td>\n",
       "      <td>...</td>\n",
       "      <td>1.5</td>\n",
       "      <td>4.0</td>\n",
       "      <td>120.0</td>\n",
       "      <td>$70.00</td>\n",
       "      <td>$500.00</td>\n",
       "      <td>6</td>\n",
       "      <td>60</td>\n",
       "      <td>2</td>\n",
       "      <td>2</td>\n",
       "      <td>149.6</td>\n",
       "    </tr>\n",
       "  </tbody>\n",
       "</table>\n",
       "<p>5 rows × 21 columns</p>\n",
       "</div>"
      ],
      "text/plain": [
       "     host_response_rate  host_acceptance_rate  host_listings_count  latitude  \\\n",
       "3337                NaN                   NaN                  1.0  48.83049   \n",
       "2447                80%                   NaN                  2.0  48.85191   \n",
       "2159                NaN                   NaN                  1.0  48.82794   \n",
       "6071                NaN                   NaN                  1.0  48.84953   \n",
       "4175                NaN                   NaN                  1.0  48.82022   \n",
       "\n",
       "      longitude   city zipcode          state  accommodates        room_type  \\\n",
       "3337    2.32686  Paris   75014          Paris             2  Entire home/apt   \n",
       "2447    2.39058  Paris   75011  Île-de-France             3  Entire home/apt   \n",
       "2159    2.32615  Paris   75014  Île-de-France             3  Entire home/apt   \n",
       "6071    2.32997  Paris   75007  Île-de-France             5  Entire home/apt   \n",
       "4175    2.35602  Paris   75013  Île-de-France             5  Entire home/apt   \n",
       "\n",
       "      ...  bathrooms  beds  price  cleaning_fee security_deposit  \\\n",
       "3337  ...        1.0   1.0   85.0        $40.00          $500.00   \n",
       "2447  ...        1.0   1.0   95.0       $100.00          $350.00   \n",
       "2159  ...        1.0   2.0   75.0         $0.00          $150.00   \n",
       "6071  ...        1.0   2.0  110.0        $40.00          $200.00   \n",
       "4175  ...        1.5   4.0  120.0        $70.00          $500.00   \n",
       "\n",
       "     minimum_nights  maximum_nights  number_of_reviews  distance  \\\n",
       "3337              5              20                 33         1   \n",
       "2447             12            1125                  1         0   \n",
       "2159             35              62                  2         0   \n",
       "6071              1            1125                 84         2   \n",
       "4175              6              60                  2         2   \n",
       "\n",
       "      predicted_price  \n",
       "3337             98.4  \n",
       "2447             90.4  \n",
       "2159             90.4  \n",
       "6071            149.6  \n",
       "4175            149.6  \n",
       "\n",
       "[5 rows x 21 columns]"
      ]
     },
     "execution_count": 32,
     "metadata": {},
     "output_type": "execute_result"
    }
   ],
   "source": [
    "test_df.head()"
   ]
  },
  {
   "cell_type": "code",
   "execution_count": 34,
   "metadata": {},
   "outputs": [
    {
     "name": "stdout",
     "output_type": "stream",
     "text": [
      "51.22359999999969\n"
     ]
    }
   ],
   "source": [
    "test_df['error'] = np.abs(test_df['predicted_price'] - test_df['price'])\n",
    "mae = test_df['error'].mean()\n",
    "print(mae)"
   ]
  },
  {
   "cell_type": "code",
   "execution_count": 36,
   "metadata": {},
   "outputs": [
    {
     "name": "stdout",
     "output_type": "stream",
     "text": [
      "8404.194760000064\n"
     ]
    }
   ],
   "source": [
    "test_df['squared_error'] = (test_df['predicted_price'] - test_df['price'])**2\n",
    "mse = test_df['squared_error'].mean()\n",
    "print(mse)"
   ]
  },
  {
   "cell_type": "code",
   "execution_count": 38,
   "metadata": {},
   "outputs": [
    {
     "name": "stdout",
     "output_type": "stream",
     "text": [
      "7545.989219999977\n"
     ]
    }
   ],
   "source": [
    "airbnb = airbnb.loc[np.random.permutation(len(airbnb))]\n",
    "\n",
    "train_df = airbnb.iloc[0:6000] \n",
    "test_df  = airbnb.iloc[6000:]\n",
    "\n",
    "\n",
    "def predict_price(new_listing):\n",
    "    temp_df = train_df.copy()\n",
    "    temp_df['distance'] = temp_df['bedrooms'].apply(lambda x:np.abs(x - new_listing))\n",
    "    temp_df = temp_df.sort_values('distance')\n",
    "    nearest_neighbors = temp_df.iloc[0:5]['price']\n",
    "    predicted_price = nearest_neighbors.mean()\n",
    "    return(predicted_price)\n",
    "  \n",
    "test_df[\"predicted_price\"] = test_df[\"bedrooms\"].apply(lambda x:predict_price(x))\n",
    "test_df[\"squared_error\"] = (test_df[\"predicted_price\"] - test_df[\"price\"])**2\n",
    "mse = test_df[\"squared_error\"].mean()\n",
    "\n",
    "print(mse)"
   ]
  },
  {
   "cell_type": "code",
   "execution_count": 39,
   "metadata": {},
   "outputs": [
    {
     "data": {
      "text/html": [
       "<div>\n",
       "<style scoped>\n",
       "    .dataframe tbody tr th:only-of-type {\n",
       "        vertical-align: middle;\n",
       "    }\n",
       "\n",
       "    .dataframe tbody tr th {\n",
       "        vertical-align: top;\n",
       "    }\n",
       "\n",
       "    .dataframe thead th {\n",
       "        text-align: right;\n",
       "    }\n",
       "</style>\n",
       "<table border=\"1\" class=\"dataframe\">\n",
       "  <thead>\n",
       "    <tr style=\"text-align: right;\">\n",
       "      <th></th>\n",
       "      <th>host_response_rate</th>\n",
       "      <th>host_acceptance_rate</th>\n",
       "      <th>host_listings_count</th>\n",
       "      <th>latitude</th>\n",
       "      <th>longitude</th>\n",
       "      <th>city</th>\n",
       "      <th>zipcode</th>\n",
       "      <th>state</th>\n",
       "      <th>accommodates</th>\n",
       "      <th>room_type</th>\n",
       "      <th>...</th>\n",
       "      <th>beds</th>\n",
       "      <th>price</th>\n",
       "      <th>cleaning_fee</th>\n",
       "      <th>security_deposit</th>\n",
       "      <th>minimum_nights</th>\n",
       "      <th>maximum_nights</th>\n",
       "      <th>number_of_reviews</th>\n",
       "      <th>distance</th>\n",
       "      <th>predicted_price</th>\n",
       "      <th>squared_error</th>\n",
       "    </tr>\n",
       "  </thead>\n",
       "  <tbody>\n",
       "    <tr>\n",
       "      <th>1787</th>\n",
       "      <td>100%</td>\n",
       "      <td>NaN</td>\n",
       "      <td>1.0</td>\n",
       "      <td>48.84868</td>\n",
       "      <td>2.29359</td>\n",
       "      <td>Paris</td>\n",
       "      <td>75015</td>\n",
       "      <td>Île-de-France</td>\n",
       "      <td>8</td>\n",
       "      <td>Entire home/apt</td>\n",
       "      <td>...</td>\n",
       "      <td>5.0</td>\n",
       "      <td>300.0</td>\n",
       "      <td>$70.00</td>\n",
       "      <td>$800.00</td>\n",
       "      <td>4</td>\n",
       "      <td>30</td>\n",
       "      <td>72</td>\n",
       "      <td>5</td>\n",
       "      <td>214.0</td>\n",
       "      <td>7396.00</td>\n",
       "    </tr>\n",
       "    <tr>\n",
       "      <th>3323</th>\n",
       "      <td>NaN</td>\n",
       "      <td>NaN</td>\n",
       "      <td>1.0</td>\n",
       "      <td>48.85223</td>\n",
       "      <td>2.32726</td>\n",
       "      <td>Paris</td>\n",
       "      <td>75007</td>\n",
       "      <td>Île-de-France</td>\n",
       "      <td>4</td>\n",
       "      <td>Entire home/apt</td>\n",
       "      <td>...</td>\n",
       "      <td>1.0</td>\n",
       "      <td>100.0</td>\n",
       "      <td>$50.00</td>\n",
       "      <td>$600.00</td>\n",
       "      <td>5</td>\n",
       "      <td>10000</td>\n",
       "      <td>10</td>\n",
       "      <td>1</td>\n",
       "      <td>87.2</td>\n",
       "      <td>163.84</td>\n",
       "    </tr>\n",
       "    <tr>\n",
       "      <th>3693</th>\n",
       "      <td>100%</td>\n",
       "      <td>NaN</td>\n",
       "      <td>1.0</td>\n",
       "      <td>48.86483</td>\n",
       "      <td>2.30397</td>\n",
       "      <td>Paris</td>\n",
       "      <td>75008</td>\n",
       "      <td>Île-de-France</td>\n",
       "      <td>2</td>\n",
       "      <td>Entire home/apt</td>\n",
       "      <td>...</td>\n",
       "      <td>1.0</td>\n",
       "      <td>73.0</td>\n",
       "      <td>$30.00</td>\n",
       "      <td>$150.00</td>\n",
       "      <td>2</td>\n",
       "      <td>1124</td>\n",
       "      <td>53</td>\n",
       "      <td>1</td>\n",
       "      <td>77.2</td>\n",
       "      <td>17.64</td>\n",
       "    </tr>\n",
       "    <tr>\n",
       "      <th>7630</th>\n",
       "      <td>70%</td>\n",
       "      <td>NaN</td>\n",
       "      <td>1.0</td>\n",
       "      <td>48.85953</td>\n",
       "      <td>2.35711</td>\n",
       "      <td>Paris</td>\n",
       "      <td>75004</td>\n",
       "      <td>Île-de-France</td>\n",
       "      <td>2</td>\n",
       "      <td>Entire home/apt</td>\n",
       "      <td>...</td>\n",
       "      <td>1.0</td>\n",
       "      <td>125.0</td>\n",
       "      <td>$20.00</td>\n",
       "      <td>$200.00</td>\n",
       "      <td>2</td>\n",
       "      <td>15</td>\n",
       "      <td>16</td>\n",
       "      <td>1</td>\n",
       "      <td>87.2</td>\n",
       "      <td>1428.84</td>\n",
       "    </tr>\n",
       "    <tr>\n",
       "      <th>3948</th>\n",
       "      <td>100%</td>\n",
       "      <td>NaN</td>\n",
       "      <td>1.0</td>\n",
       "      <td>48.84665</td>\n",
       "      <td>2.35213</td>\n",
       "      <td>Paris</td>\n",
       "      <td>75005</td>\n",
       "      <td>Île-de-France</td>\n",
       "      <td>2</td>\n",
       "      <td>Entire home/apt</td>\n",
       "      <td>...</td>\n",
       "      <td>1.0</td>\n",
       "      <td>129.0</td>\n",
       "      <td>$40.00</td>\n",
       "      <td>$500.00</td>\n",
       "      <td>3</td>\n",
       "      <td>30</td>\n",
       "      <td>62</td>\n",
       "      <td>1</td>\n",
       "      <td>87.2</td>\n",
       "      <td>1747.24</td>\n",
       "    </tr>\n",
       "  </tbody>\n",
       "</table>\n",
       "<p>5 rows × 22 columns</p>\n",
       "</div>"
      ],
      "text/plain": [
       "     host_response_rate  host_acceptance_rate  host_listings_count  latitude  \\\n",
       "1787               100%                   NaN                  1.0  48.84868   \n",
       "3323                NaN                   NaN                  1.0  48.85223   \n",
       "3693               100%                   NaN                  1.0  48.86483   \n",
       "7630                70%                   NaN                  1.0  48.85953   \n",
       "3948               100%                   NaN                  1.0  48.84665   \n",
       "\n",
       "      longitude   city zipcode          state  accommodates        room_type  \\\n",
       "1787    2.29359  Paris   75015  Île-de-France             8  Entire home/apt   \n",
       "3323    2.32726  Paris   75007  Île-de-France             4  Entire home/apt   \n",
       "3693    2.30397  Paris   75008  Île-de-France             2  Entire home/apt   \n",
       "7630    2.35711  Paris   75004  Île-de-France             2  Entire home/apt   \n",
       "3948    2.35213  Paris   75005  Île-de-France             2  Entire home/apt   \n",
       "\n",
       "      ...  beds  price  cleaning_fee  security_deposit minimum_nights  \\\n",
       "1787  ...   5.0  300.0        $70.00           $800.00              4   \n",
       "3323  ...   1.0  100.0        $50.00           $600.00              5   \n",
       "3693  ...   1.0   73.0        $30.00           $150.00              2   \n",
       "7630  ...   1.0  125.0        $20.00           $200.00              2   \n",
       "3948  ...   1.0  129.0        $40.00           $500.00              3   \n",
       "\n",
       "     maximum_nights  number_of_reviews  distance  predicted_price  \\\n",
       "1787             30                 72         5            214.0   \n",
       "3323          10000                 10         1             87.2   \n",
       "3693           1124                 53         1             77.2   \n",
       "7630             15                 16         1             87.2   \n",
       "3948             30                 62         1             87.2   \n",
       "\n",
       "      squared_error  \n",
       "1787        7396.00  \n",
       "3323         163.84  \n",
       "3693          17.64  \n",
       "7630        1428.84  \n",
       "3948        1747.24  \n",
       "\n",
       "[5 rows x 22 columns]"
      ]
     },
     "execution_count": 39,
     "metadata": {},
     "output_type": "execute_result"
    }
   ],
   "source": [
    "test_df.head()"
   ]
  },
  {
   "cell_type": "code",
   "execution_count": 40,
   "metadata": {},
   "outputs": [
    {
     "data": {
      "text/plain": [
       "Index(['host_response_rate', 'host_acceptance_rate', 'host_listings_count',\n",
       "       'latitude', 'longitude', 'city', 'zipcode', 'state', 'accommodates',\n",
       "       'room_type', 'bedrooms', 'bathrooms', 'beds', 'price', 'cleaning_fee',\n",
       "       'security_deposit', 'minimum_nights', 'maximum_nights',\n",
       "       'number_of_reviews', 'distance', 'predicted_price', 'squared_error'],\n",
       "      dtype='object')"
      ]
     },
     "execution_count": 40,
     "metadata": {},
     "output_type": "execute_result"
    }
   ],
   "source": [
    "test_df.columns"
   ]
  },
  {
   "cell_type": "code",
   "execution_count": 42,
   "metadata": {},
   "outputs": [
    {
     "data": {
      "text/html": [
       "<div>\n",
       "<style scoped>\n",
       "    .dataframe tbody tr th:only-of-type {\n",
       "        vertical-align: middle;\n",
       "    }\n",
       "\n",
       "    .dataframe tbody tr th {\n",
       "        vertical-align: top;\n",
       "    }\n",
       "\n",
       "    .dataframe thead th {\n",
       "        text-align: right;\n",
       "    }\n",
       "</style>\n",
       "<table border=\"1\" class=\"dataframe\">\n",
       "  <thead>\n",
       "    <tr style=\"text-align: right;\">\n",
       "      <th></th>\n",
       "      <th>bedrooms</th>\n",
       "      <th>beds</th>\n",
       "      <th>price</th>\n",
       "      <th>predicted_price</th>\n",
       "      <th>squared_error</th>\n",
       "    </tr>\n",
       "  </thead>\n",
       "  <tbody>\n",
       "    <tr>\n",
       "      <th>1787</th>\n",
       "      <td>3.0</td>\n",
       "      <td>5.0</td>\n",
       "      <td>300.0</td>\n",
       "      <td>214.0</td>\n",
       "      <td>7396.00</td>\n",
       "    </tr>\n",
       "    <tr>\n",
       "      <th>3323</th>\n",
       "      <td>1.0</td>\n",
       "      <td>1.0</td>\n",
       "      <td>100.0</td>\n",
       "      <td>87.2</td>\n",
       "      <td>163.84</td>\n",
       "    </tr>\n",
       "    <tr>\n",
       "      <th>3693</th>\n",
       "      <td>0.0</td>\n",
       "      <td>1.0</td>\n",
       "      <td>73.0</td>\n",
       "      <td>77.2</td>\n",
       "      <td>17.64</td>\n",
       "    </tr>\n",
       "    <tr>\n",
       "      <th>7630</th>\n",
       "      <td>1.0</td>\n",
       "      <td>1.0</td>\n",
       "      <td>125.0</td>\n",
       "      <td>87.2</td>\n",
       "      <td>1428.84</td>\n",
       "    </tr>\n",
       "    <tr>\n",
       "      <th>3948</th>\n",
       "      <td>1.0</td>\n",
       "      <td>1.0</td>\n",
       "      <td>129.0</td>\n",
       "      <td>87.2</td>\n",
       "      <td>1747.24</td>\n",
       "    </tr>\n",
       "    <tr>\n",
       "      <th>142</th>\n",
       "      <td>3.0</td>\n",
       "      <td>3.0</td>\n",
       "      <td>80.0</td>\n",
       "      <td>214.0</td>\n",
       "      <td>17956.00</td>\n",
       "    </tr>\n",
       "    <tr>\n",
       "      <th>315</th>\n",
       "      <td>1.0</td>\n",
       "      <td>1.0</td>\n",
       "      <td>60.0</td>\n",
       "      <td>87.2</td>\n",
       "      <td>739.84</td>\n",
       "    </tr>\n",
       "    <tr>\n",
       "      <th>5820</th>\n",
       "      <td>1.0</td>\n",
       "      <td>1.0</td>\n",
       "      <td>58.0</td>\n",
       "      <td>87.2</td>\n",
       "      <td>852.64</td>\n",
       "    </tr>\n",
       "    <tr>\n",
       "      <th>1032</th>\n",
       "      <td>1.0</td>\n",
       "      <td>1.0</td>\n",
       "      <td>24.0</td>\n",
       "      <td>87.2</td>\n",
       "      <td>3994.24</td>\n",
       "    </tr>\n",
       "    <tr>\n",
       "      <th>1478</th>\n",
       "      <td>1.0</td>\n",
       "      <td>2.0</td>\n",
       "      <td>95.0</td>\n",
       "      <td>87.2</td>\n",
       "      <td>60.84</td>\n",
       "    </tr>\n",
       "  </tbody>\n",
       "</table>\n",
       "</div>"
      ],
      "text/plain": [
       "      bedrooms  beds  price  predicted_price  squared_error\n",
       "1787       3.0   5.0  300.0            214.0        7396.00\n",
       "3323       1.0   1.0  100.0             87.2         163.84\n",
       "3693       0.0   1.0   73.0             77.2          17.64\n",
       "7630       1.0   1.0  125.0             87.2        1428.84\n",
       "3948       1.0   1.0  129.0             87.2        1747.24\n",
       "142        3.0   3.0   80.0            214.0       17956.00\n",
       "315        1.0   1.0   60.0             87.2         739.84\n",
       "5820       1.0   1.0   58.0             87.2         852.64\n",
       "1032       1.0   1.0   24.0             87.2        3994.24\n",
       "1478       1.0   2.0   95.0             87.2          60.84"
      ]
     },
     "execution_count": 42,
     "metadata": {},
     "output_type": "execute_result"
    }
   ],
   "source": [
    "mycols = [\"bedrooms\",\"beds\",\"price\",\"predicted_price\",\"squared_error\"]\n",
    "test_df.loc[:,mycols].head(10)"
   ]
  },
  {
   "cell_type": "code",
   "execution_count": 99,
   "metadata": {},
   "outputs": [
    {
     "name": "stdout",
     "output_type": "stream",
     "text": [
      "<class 'pandas.core.frame.DataFrame'>\n",
      "Int64Index: 8000 entries, 4740 to 5157\n",
      "Data columns (total 19 columns):\n",
      " #   Column                Non-Null Count  Dtype  \n",
      "---  ------                --------------  -----  \n",
      " 0   host_response_rate    5000 non-null   object \n",
      " 1   host_acceptance_rate  0 non-null      float64\n",
      " 2   host_listings_count   7999 non-null   float64\n",
      " 3   latitude              8000 non-null   float64\n",
      " 4   longitude             8000 non-null   float64\n",
      " 5   city                  7997 non-null   object \n",
      " 6   zipcode               7930 non-null   object \n",
      " 7   state                 7977 non-null   object \n",
      " 8   accommodates          8000 non-null   int64  \n",
      " 9   room_type             8000 non-null   object \n",
      " 10  bedrooms              7976 non-null   float64\n",
      " 11  bathrooms             7942 non-null   float64\n",
      " 12  beds                  7986 non-null   float64\n",
      " 13  price                 8000 non-null   float64\n",
      " 14  cleaning_fee          6250 non-null   object \n",
      " 15  security_deposit      6320 non-null   object \n",
      " 16  minimum_nights        8000 non-null   int64  \n",
      " 17  maximum_nights        8000 non-null   int64  \n",
      " 18  number_of_reviews     8000 non-null   int64  \n",
      "dtypes: float64(8), int64(4), object(7)\n",
      "memory usage: 1.2+ MB\n",
      "None\n"
     ]
    }
   ],
   "source": [
    "import pandas as pd\n",
    "import numpy as np\n",
    "np.random.seed(1)\n",
    "\n",
    "ar = pd.read_csv(\"paris_airbnb.csv\")\n",
    "ar = ar.loc[np.random.permutation(len(ar))]\n",
    "\n",
    "stripped_commas = ar[\"price\"].str.replace(',','')\n",
    "stripped_dollars = stripped_commas.str.replace('$','')\n",
    "ar['price'] = stripped_dollars.astype('float')\n",
    "\n",
    "print(ar.info())\n"
   ]
  },
  {
   "cell_type": "code",
   "execution_count": 100,
   "metadata": {},
   "outputs": [],
   "source": [
    "drop_columns = [\"host_response_rate\",\"host_acceptance_rate\",\"host_listings_count\",\"latitude\",\"longitude\",\"city\",\"zipcode\",\"state\",\"room_type\",\"cleaning_fee\",\"security_deposit\"]\n",
    "ar = ar.drop(drop_columns, axis=1)"
   ]
  },
  {
   "cell_type": "code",
   "execution_count": 101,
   "metadata": {},
   "outputs": [
    {
     "name": "stdout",
     "output_type": "stream",
     "text": [
      "accommodates          0\n",
      "bedrooms             24\n",
      "bathrooms            58\n",
      "beds                 14\n",
      "price                 0\n",
      "minimum_nights        0\n",
      "maximum_nights        0\n",
      "number_of_reviews     0\n",
      "dtype: int64\n"
     ]
    }
   ],
   "source": [
    "print(ar.isnull().sum())"
   ]
  },
  {
   "cell_type": "code",
   "execution_count": 102,
   "metadata": {},
   "outputs": [
    {
     "name": "stdout",
     "output_type": "stream",
     "text": [
      "accommodates         0\n",
      "bedrooms             0\n",
      "bathrooms            0\n",
      "beds                 0\n",
      "price                0\n",
      "minimum_nights       0\n",
      "maximum_nights       0\n",
      "number_of_reviews    0\n",
      "dtype: int64\n"
     ]
    }
   ],
   "source": [
    "ar = ar.dropna(axis=0)\n",
    "print(ar.isnull().sum())"
   ]
  },
  {
   "cell_type": "code",
   "execution_count": 103,
   "metadata": {},
   "outputs": [
    {
     "data": {
      "text/html": [
       "<div>\n",
       "<style scoped>\n",
       "    .dataframe tbody tr th:only-of-type {\n",
       "        vertical-align: middle;\n",
       "    }\n",
       "\n",
       "    .dataframe tbody tr th {\n",
       "        vertical-align: top;\n",
       "    }\n",
       "\n",
       "    .dataframe thead th {\n",
       "        text-align: right;\n",
       "    }\n",
       "</style>\n",
       "<table border=\"1\" class=\"dataframe\">\n",
       "  <thead>\n",
       "    <tr style=\"text-align: right;\">\n",
       "      <th></th>\n",
       "      <th>accommodates</th>\n",
       "      <th>bedrooms</th>\n",
       "      <th>bathrooms</th>\n",
       "      <th>beds</th>\n",
       "      <th>price</th>\n",
       "      <th>minimum_nights</th>\n",
       "      <th>maximum_nights</th>\n",
       "      <th>number_of_reviews</th>\n",
       "    </tr>\n",
       "  </thead>\n",
       "  <tbody>\n",
       "    <tr>\n",
       "      <th>4740</th>\n",
       "      <td>4</td>\n",
       "      <td>1.0</td>\n",
       "      <td>1.0</td>\n",
       "      <td>2.0</td>\n",
       "      <td>65.0</td>\n",
       "      <td>2</td>\n",
       "      <td>1125</td>\n",
       "      <td>6</td>\n",
       "    </tr>\n",
       "    <tr>\n",
       "      <th>5606</th>\n",
       "      <td>3</td>\n",
       "      <td>2.0</td>\n",
       "      <td>1.5</td>\n",
       "      <td>2.0</td>\n",
       "      <td>98.0</td>\n",
       "      <td>5</td>\n",
       "      <td>1124</td>\n",
       "      <td>1</td>\n",
       "    </tr>\n",
       "    <tr>\n",
       "      <th>4824</th>\n",
       "      <td>2</td>\n",
       "      <td>0.0</td>\n",
       "      <td>1.0</td>\n",
       "      <td>1.0</td>\n",
       "      <td>65.0</td>\n",
       "      <td>10</td>\n",
       "      <td>1125</td>\n",
       "      <td>0</td>\n",
       "    </tr>\n",
       "    <tr>\n",
       "      <th>4205</th>\n",
       "      <td>2</td>\n",
       "      <td>1.0</td>\n",
       "      <td>1.0</td>\n",
       "      <td>1.0</td>\n",
       "      <td>45.0</td>\n",
       "      <td>5</td>\n",
       "      <td>1125</td>\n",
       "      <td>83</td>\n",
       "    </tr>\n",
       "    <tr>\n",
       "      <th>3228</th>\n",
       "      <td>3</td>\n",
       "      <td>1.0</td>\n",
       "      <td>1.0</td>\n",
       "      <td>2.0</td>\n",
       "      <td>65.0</td>\n",
       "      <td>5</td>\n",
       "      <td>365</td>\n",
       "      <td>5</td>\n",
       "    </tr>\n",
       "    <tr>\n",
       "      <th>2745</th>\n",
       "      <td>4</td>\n",
       "      <td>1.0</td>\n",
       "      <td>1.0</td>\n",
       "      <td>2.0</td>\n",
       "      <td>88.0</td>\n",
       "      <td>3</td>\n",
       "      <td>30</td>\n",
       "      <td>120</td>\n",
       "    </tr>\n",
       "    <tr>\n",
       "      <th>3611</th>\n",
       "      <td>2</td>\n",
       "      <td>0.0</td>\n",
       "      <td>1.0</td>\n",
       "      <td>1.0</td>\n",
       "      <td>45.0</td>\n",
       "      <td>5</td>\n",
       "      <td>1124</td>\n",
       "      <td>71</td>\n",
       "    </tr>\n",
       "    <tr>\n",
       "      <th>3491</th>\n",
       "      <td>2</td>\n",
       "      <td>1.0</td>\n",
       "      <td>2.0</td>\n",
       "      <td>1.0</td>\n",
       "      <td>115.0</td>\n",
       "      <td>30</td>\n",
       "      <td>365</td>\n",
       "      <td>26</td>\n",
       "    </tr>\n",
       "    <tr>\n",
       "      <th>1185</th>\n",
       "      <td>4</td>\n",
       "      <td>1.0</td>\n",
       "      <td>1.0</td>\n",
       "      <td>2.0</td>\n",
       "      <td>40.0</td>\n",
       "      <td>7</td>\n",
       "      <td>15</td>\n",
       "      <td>2</td>\n",
       "    </tr>\n",
       "    <tr>\n",
       "      <th>74</th>\n",
       "      <td>7</td>\n",
       "      <td>2.0</td>\n",
       "      <td>1.5</td>\n",
       "      <td>4.0</td>\n",
       "      <td>110.0</td>\n",
       "      <td>14</td>\n",
       "      <td>365</td>\n",
       "      <td>49</td>\n",
       "    </tr>\n",
       "  </tbody>\n",
       "</table>\n",
       "</div>"
      ],
      "text/plain": [
       "      accommodates  bedrooms  bathrooms  beds  price  minimum_nights  \\\n",
       "4740             4       1.0        1.0   2.0   65.0               2   \n",
       "5606             3       2.0        1.5   2.0   98.0               5   \n",
       "4824             2       0.0        1.0   1.0   65.0              10   \n",
       "4205             2       1.0        1.0   1.0   45.0               5   \n",
       "3228             3       1.0        1.0   2.0   65.0               5   \n",
       "2745             4       1.0        1.0   2.0   88.0               3   \n",
       "3611             2       0.0        1.0   1.0   45.0               5   \n",
       "3491             2       1.0        2.0   1.0  115.0              30   \n",
       "1185             4       1.0        1.0   2.0   40.0               7   \n",
       "74               7       2.0        1.5   4.0  110.0              14   \n",
       "\n",
       "      maximum_nights  number_of_reviews  \n",
       "4740            1125                  6  \n",
       "5606            1124                  1  \n",
       "4824            1125                  0  \n",
       "4205            1125                 83  \n",
       "3228             365                  5  \n",
       "2745              30                120  \n",
       "3611            1124                 71  \n",
       "3491             365                 26  \n",
       "1185              15                  2  \n",
       "74               365                 49  "
      ]
     },
     "execution_count": 103,
     "metadata": {},
     "output_type": "execute_result"
    }
   ],
   "source": [
    "ar.head(10)"
   ]
  },
  {
   "cell_type": "code",
   "execution_count": 104,
   "metadata": {},
   "outputs": [
    {
     "name": "stdout",
     "output_type": "stream",
     "text": [
      "      accommodates  bedrooms  bathrooms     beds  price  minimum_nights  \\\n",
      "4740      0.503868 -0.296884  -0.293537  0.20531   65.0       -0.184601   \n",
      "5606     -0.131849  0.892605   0.843973  0.20531   98.0       -0.101183   \n",
      "4824     -0.767566 -1.486372  -0.293537 -0.64526   65.0        0.037847   \n",
      "4205     -0.767566 -0.296884  -0.293537 -0.64526   45.0       -0.101183   \n",
      "3228     -0.131849 -0.296884  -0.293537  0.20531   65.0       -0.101183   \n",
      "\n",
      "      maximum_nights  number_of_reviews  \n",
      "4740        1.062858          -0.564545  \n",
      "5606        1.061018          -0.636924  \n",
      "4824        1.062858          -0.651400  \n",
      "4205        1.062858           0.550105  \n",
      "3228       -0.335685          -0.579021  \n"
     ]
    }
   ],
   "source": [
    "#normalisation des données, ex : max de nuits a des valeurs avec des écarts trop importants de 15 à 1125. \n",
    "#on normalise avec l'écart type std\n",
    "norm_ar = (ar - ar.mean()) / (ar.std())\n",
    "#on remplace la valeur normalisée par la valeur initiale sur les prix\n",
    "norm_ar[\"price\"] = ar[\"price\"]\n",
    "print(norm_ar.head())"
   ]
  },
  {
   "cell_type": "code",
   "execution_count": 107,
   "metadata": {},
   "outputs": [
    {
     "name": "stdout",
     "output_type": "stream",
     "text": [
      "0.6357172321498359\n"
     ]
    }
   ],
   "source": [
    "#calcul de la distance euclidienne sur un tableau normalisé\n",
    "from scipy.spatial import distance\n",
    "\n",
    "first_ar = norm_ar.iloc[0][[\"accommodates\",\"bedrooms\"]]\n",
    "fifth_ar = norm_ar.iloc[4][[\"accommodates\",\"bedrooms\"]]\n",
    "\n",
    "first_fifth_distance = distance.euclidean(first_ar, fifth_ar)\n",
    "\n",
    "#distance euclidienne entre les 2 lignes\n",
    "print(first_fifth_distance)"
   ]
  },
  {
   "cell_type": "code",
   "execution_count": 114,
   "metadata": {},
   "outputs": [
    {
     "data": {
      "text/plain": [
       "array([ 72. ,  79.2,  79.2, ...,  72. , 148.4,  79.2])"
      ]
     },
     "execution_count": 114,
     "metadata": {},
     "output_type": "execute_result"
    }
   ],
   "source": [
    "from sklearn.neighbors import KNeighborsRegressor\n",
    "\n",
    "train_df = norm_ar.iloc[0:6000]\n",
    "test_df = norm_ar.iloc[6000:]\n",
    "train_columns = [\"accommodates\",\"bedrooms\"]\n",
    "\n",
    "knn =  KNeighborsRegressor(n_neighbors = 5, algorithm = \"brute\")\n",
    "\n",
    "#adapte le modèle aux données\n",
    "knn.fit(train_df[train_columns],train_df[\"price\"])\n",
    "\n",
    "#utilise le modèle\n",
    "predictions = knn.predict(test_df[train_columns])\n",
    "\n",
    "predictions"
   ]
  },
  {
   "cell_type": "code",
   "execution_count": 115,
   "metadata": {},
   "outputs": [
    {
     "name": "stdout",
     "output_type": "stream",
     "text": [
      "6067.834762649973\n",
      "77.89630776005993\n"
     ]
    }
   ],
   "source": [
    "from sklearn.metrics import mean_squared_error\n",
    "\n",
    "two_feature_mse = mean_squared_error(test_df[\"price\"],predictions)\n",
    "two_feature_rmse = two_feature_mse**(1/2)\n",
    "\n",
    "print(two_feature_mse)\n",
    "print(two_feature_rmse)\n"
   ]
  },
  {
   "cell_type": "code",
   "execution_count": 118,
   "metadata": {},
   "outputs": [
    {
     "name": "stdout",
     "output_type": "stream",
     "text": [
      "5488.169827856025\n",
      "74.08218293122864\n"
     ]
    }
   ],
   "source": [
    "from sklearn.neighbors import KNeighborsRegressor\n",
    "\n",
    "features = [\"accommodates\",\"bedrooms\",\"bathrooms\",\"number_of_reviews\"]\n",
    "\n",
    "knn = KNeighborsRegressor(n_neighbors=5,algorithm=\"brute\")\n",
    "\n",
    "knn.fit(train_df[features],train_df[\"price\"])\n",
    "\n",
    "four_predictions = knn.predict(test_df[features])\n",
    "\n",
    "four_mse = mean_squared_error(test_df[\"price\"],four_predictions)\n",
    "\n",
    "four_rmse = four_mse ** (1/2)\n",
    "\n",
    "print(four_mse)\n",
    "print(four_rmse)\n",
    "\n",
    "\n",
    "\n"
   ]
  },
  {
   "cell_type": "code",
   "execution_count": 122,
   "metadata": {},
   "outputs": [
    {
     "name": "stdout",
     "output_type": "stream",
     "text": [
      "7241.331684924361\n",
      "85.0960145066992\n"
     ]
    }
   ],
   "source": [
    "knn = KNeighborsRegressor(n_neighbors=5,algorithm=\"brute\")\n",
    "\n",
    "features = train_df.columns.tolist()\n",
    "features.remove(\"price\")\n",
    "\n",
    "knn.fit(train_df[features],train_df[\"price\"])\n",
    "\n",
    "all_features_predictions = knn.predict(test_df[features])\n",
    "\n",
    "all_features_mse = mean_squared_error(test_df[\"price\"], all_features_predictions)\n",
    "\n",
    "all_features_rmse = all_features_mse ** (1/2)\n",
    "\n",
    "print(all_features_mse)\n",
    "print(all_features_rmse)\n",
    "\n"
   ]
  },
  {
   "cell_type": "code",
   "execution_count": 125,
   "metadata": {},
   "outputs": [
    {
     "data": {
      "text/html": [
       "<div>\n",
       "<style scoped>\n",
       "    .dataframe tbody tr th:only-of-type {\n",
       "        vertical-align: middle;\n",
       "    }\n",
       "\n",
       "    .dataframe tbody tr th {\n",
       "        vertical-align: top;\n",
       "    }\n",
       "\n",
       "    .dataframe thead th {\n",
       "        text-align: right;\n",
       "    }\n",
       "</style>\n",
       "<table border=\"1\" class=\"dataframe\">\n",
       "  <thead>\n",
       "    <tr style=\"text-align: right;\">\n",
       "      <th></th>\n",
       "      <th>Unnamed: 0</th>\n",
       "      <th>accommodates</th>\n",
       "      <th>bedrooms</th>\n",
       "      <th>bathrooms</th>\n",
       "      <th>beds</th>\n",
       "      <th>price</th>\n",
       "      <th>minimum_nights</th>\n",
       "      <th>maximum_nights</th>\n",
       "      <th>number_of_reviews</th>\n",
       "    </tr>\n",
       "  </thead>\n",
       "  <tbody>\n",
       "    <tr>\n",
       "      <th>0</th>\n",
       "      <td>7539</td>\n",
       "      <td>-0.767566</td>\n",
       "      <td>-1.486372</td>\n",
       "      <td>-2.568557</td>\n",
       "      <td>-0.64526</td>\n",
       "      <td>75.0</td>\n",
       "      <td>-0.184601</td>\n",
       "      <td>1.062858</td>\n",
       "      <td>-0.651400</td>\n",
       "    </tr>\n",
       "    <tr>\n",
       "      <th>1</th>\n",
       "      <td>2765</td>\n",
       "      <td>-0.767566</td>\n",
       "      <td>-0.296884</td>\n",
       "      <td>-0.293537</td>\n",
       "      <td>-0.64526</td>\n",
       "      <td>60.0</td>\n",
       "      <td>-0.184601</td>\n",
       "      <td>-0.998153</td>\n",
       "      <td>-0.405309</td>\n",
       "    </tr>\n",
       "    <tr>\n",
       "      <th>2</th>\n",
       "      <td>6605</td>\n",
       "      <td>-0.767566</td>\n",
       "      <td>-0.296884</td>\n",
       "      <td>-0.293537</td>\n",
       "      <td>-0.64526</td>\n",
       "      <td>30.0</td>\n",
       "      <td>-0.156795</td>\n",
       "      <td>-0.979751</td>\n",
       "      <td>-0.115789</td>\n",
       "    </tr>\n",
       "    <tr>\n",
       "      <th>3</th>\n",
       "      <td>515</td>\n",
       "      <td>0.503868</td>\n",
       "      <td>-0.296884</td>\n",
       "      <td>-0.293537</td>\n",
       "      <td>1.90645</td>\n",
       "      <td>112.0</td>\n",
       "      <td>0.037847</td>\n",
       "      <td>-0.841737</td>\n",
       "      <td>-0.550069</td>\n",
       "    </tr>\n",
       "    <tr>\n",
       "      <th>4</th>\n",
       "      <td>7291</td>\n",
       "      <td>1.775303</td>\n",
       "      <td>0.892605</td>\n",
       "      <td>-0.293537</td>\n",
       "      <td>0.20531</td>\n",
       "      <td>405.0</td>\n",
       "      <td>-0.101183</td>\n",
       "      <td>1.062858</td>\n",
       "      <td>-0.275025</td>\n",
       "    </tr>\n",
       "    <tr>\n",
       "      <th>5</th>\n",
       "      <td>2709</td>\n",
       "      <td>0.503868</td>\n",
       "      <td>0.892605</td>\n",
       "      <td>-0.293537</td>\n",
       "      <td>1.05588</td>\n",
       "      <td>130.0</td>\n",
       "      <td>-0.184601</td>\n",
       "      <td>1.062858</td>\n",
       "      <td>-0.506641</td>\n",
       "    </tr>\n",
       "    <tr>\n",
       "      <th>6</th>\n",
       "      <td>356</td>\n",
       "      <td>-0.767566</td>\n",
       "      <td>-0.296884</td>\n",
       "      <td>-0.293537</td>\n",
       "      <td>-0.64526</td>\n",
       "      <td>110.0</td>\n",
       "      <td>-0.184601</td>\n",
       "      <td>-0.841737</td>\n",
       "      <td>-0.622448</td>\n",
       "    </tr>\n",
       "    <tr>\n",
       "      <th>7</th>\n",
       "      <td>6767</td>\n",
       "      <td>-0.767566</td>\n",
       "      <td>-0.296884</td>\n",
       "      <td>-0.293537</td>\n",
       "      <td>-0.64526</td>\n",
       "      <td>90.0</td>\n",
       "      <td>-0.184601</td>\n",
       "      <td>-0.952148</td>\n",
       "      <td>-0.550069</td>\n",
       "    </tr>\n",
       "    <tr>\n",
       "      <th>8</th>\n",
       "      <td>7279</td>\n",
       "      <td>0.503868</td>\n",
       "      <td>-1.486372</td>\n",
       "      <td>-0.293537</td>\n",
       "      <td>-0.64526</td>\n",
       "      <td>35.0</td>\n",
       "      <td>-0.045571</td>\n",
       "      <td>1.062858</td>\n",
       "      <td>-0.492165</td>\n",
       "    </tr>\n",
       "    <tr>\n",
       "      <th>9</th>\n",
       "      <td>2710</td>\n",
       "      <td>-0.767566</td>\n",
       "      <td>-0.296884</td>\n",
       "      <td>-0.293537</td>\n",
       "      <td>-0.64526</td>\n",
       "      <td>93.0</td>\n",
       "      <td>0.176878</td>\n",
       "      <td>-0.639316</td>\n",
       "      <td>0.057922</td>\n",
       "    </tr>\n",
       "  </tbody>\n",
       "</table>\n",
       "</div>"
      ],
      "text/plain": [
       "   Unnamed: 0  accommodates  bedrooms  bathrooms     beds  price  \\\n",
       "0        7539     -0.767566 -1.486372  -2.568557 -0.64526   75.0   \n",
       "1        2765     -0.767566 -0.296884  -0.293537 -0.64526   60.0   \n",
       "2        6605     -0.767566 -0.296884  -0.293537 -0.64526   30.0   \n",
       "3         515      0.503868 -0.296884  -0.293537  1.90645  112.0   \n",
       "4        7291      1.775303  0.892605  -0.293537  0.20531  405.0   \n",
       "5        2709      0.503868  0.892605  -0.293537  1.05588  130.0   \n",
       "6         356     -0.767566 -0.296884  -0.293537 -0.64526  110.0   \n",
       "7        6767     -0.767566 -0.296884  -0.293537 -0.64526   90.0   \n",
       "8        7279      0.503868 -1.486372  -0.293537 -0.64526   35.0   \n",
       "9        2710     -0.767566 -0.296884  -0.293537 -0.64526   93.0   \n",
       "\n",
       "   minimum_nights  maximum_nights  number_of_reviews  \n",
       "0       -0.184601        1.062858          -0.651400  \n",
       "1       -0.184601       -0.998153          -0.405309  \n",
       "2       -0.156795       -0.979751          -0.115789  \n",
       "3        0.037847       -0.841737          -0.550069  \n",
       "4       -0.101183        1.062858          -0.275025  \n",
       "5       -0.184601        1.062858          -0.506641  \n",
       "6       -0.184601       -0.841737          -0.622448  \n",
       "7       -0.184601       -0.952148          -0.550069  \n",
       "8       -0.045571        1.062858          -0.492165  \n",
       "9        0.176878       -0.639316           0.057922  "
      ]
     },
     "execution_count": 125,
     "metadata": {},
     "output_type": "execute_result"
    }
   ],
   "source": [
    "import pandas as pd\n",
    "import numpy as np\n",
    "\n",
    "train_df = pd.read_csv(\"paris_airbnb_train.csv\")\n",
    "test_df  = pd.read_csv(\"paris_airbnb_test.csv\")\n",
    "\n",
    "test_df.head(10)\n"
   ]
  },
  {
   "cell_type": "code",
   "execution_count": 144,
   "metadata": {},
   "outputs": [
    {
     "data": {
      "image/png": "[encoded data removed]",
      "text/plain": [
       "<Figure size 432x288 with 1 Axes>"
      ]
     },
     "metadata": {
      "needs_background": "light"
     },
     "output_type": "display_data"
    }
   ],
   "source": [
    "#Modèle de test avec les colonnes définies\n",
    "#Modèle est bon car la valeur de la moyenne quadratique moyenne est basse\n",
    "\n",
    "from sklearn.neighbors import KNeighborsRegressor\n",
    "from sklearn.metrics import mean_squared_error\n",
    "\n",
    "import matplotlib.pyplot as plt\n",
    "%matplotlib inline\n",
    "\n",
    "\n",
    "features = [\"accommodates\",\"bedrooms\",\"bathrooms\",\"number_of_reviews\"]\n",
    "hyper_params = [x for x in range (9,300)]\n",
    "mse_values = list()\n",
    "\n",
    "for hp in hyper_params :\n",
    "    knn = KNeighborsRegressor(n_neighbors=hp, algorithm=\"brute\")\n",
    "    knn.fit(train_df[features], train_df[\"price\"])\n",
    "    predictions = knn.predict(test_df[features])\n",
    "    mse = mean_squared_error(test_df[\"price\"], predictions)\n",
    "    mse_values.append(mse)\n",
    "    #rmse = mse ** (1/2)\n",
    "\n",
    "#graphique\n",
    "plt.scatter(hyper_params, mse_values)\n",
    "plt.show()"
   ]
  },
  {
   "cell_type": "code",
   "execution_count": 146,
   "metadata": {},
   "outputs": [
    {
     "name": "stdout",
     "output_type": "stream",
     "text": [
      "4848.211829106493\n"
     ]
    }
   ],
   "source": [
    "print(min(mse_values))"
   ]
  },
  {
   "cell_type": "code",
   "execution_count": 155,
   "metadata": {},
   "outputs": [
    {
     "data": {
      "image/png": "[encoded data removed]",
      "text/plain": [
       "<Figure size 432x288 with 1 Axes>"
      ]
     },
     "metadata": {
      "needs_background": "light"
     },
     "output_type": "display_data"
    }
   ],
   "source": [
    "#Modèle de test avec toutes les colonnes, sauf price\n",
    "#Modèle est moins bon que le précédent\n",
    "from sklearn.neighbors import KNeighborsRegressor\n",
    "from sklearn.metrics import mean_squared_error\n",
    "\n",
    "import matplotlib.pyplot as plt\n",
    "%matplotlib inline\n",
    "\n",
    "features = [\"accommodates\",\"bedrooms\",\"bathrooms\",\"number_of_reviews\"]\n",
    "\n",
    "hyper_params = [x for x in range (1,100)]\n",
    "mse_values = list()\n",
    "\n",
    "for hp in hyper_params :\n",
    "    knn = KNeighborsRegressor(n_neighbors=hp, algorithm=\"brute\")\n",
    "    knn.fit(train_df[features], train_df[\"price\"])\n",
    "    predictions = knn.predict(test_df[features])\n",
    "    mse = mean_squared_error(test_df[\"price\"], predictions)\n",
    "    mse_values.append(mse)\n",
    "    #rmse = mse ** (1/2)\n",
    "\n",
    "#graphique\n",
    "fig, ax = plt.subplots()\n",
    "ax.set(title='Erreur quadratique moyenne sur K plus proche voisins',xlabel ='K plus proche voisin', ylabel ='MSE')\n",
    "plt.scatter(hyper_params, mse_values, color='#D3D3D3')\n",
    "plt.show()\n"
   ]
  },
  {
   "cell_type": "code",
   "execution_count": 140,
   "metadata": {},
   "outputs": [
    {
     "name": "stdout",
     "output_type": "stream",
     "text": [
      "8631.118014378913\n"
     ]
    }
   ],
   "source": [
    "print(min(mse_values))"
   ]
  },
  {
   "cell_type": "code",
   "execution_count": 158,
   "metadata": {},
   "outputs": [
    {
     "name": "stdout",
     "output_type": "stream",
     "text": [
      "{37: 5495.886032587592}\n"
     ]
    }
   ],
   "source": [
    "#Modèle de test avec deux tests : avec 2 et 3 colonnes\n",
    "#Modèle est moins bon que le précédent\n",
    "from sklearn.neighbors import KNeighborsRegressor\n",
    "from sklearn.metrics import mean_squared_error\n",
    "\n",
    "import matplotlib.pyplot as plt\n",
    "%matplotlib inline\n",
    "\n",
    "two_features = [\"accommodates\",\"bedrooms\"]\n",
    "three_features = [\"accommodates\",\"bedrooms\",\"bathrooms\"]\n",
    "\n",
    "hyper_params = [x for x in range (1,100)]\n",
    "\n",
    "two_mse_values = list()\n",
    "three_mse_values = list()\n",
    "\n",
    "two_hp_mse = dict()\n",
    "three_hp_mse = dict()\n",
    "\n",
    "for hp in hyper_params :\n",
    "    knn = KNeighborsRegressor(n_neighbors=hp, algorithm=\"brute\")\n",
    "    knn.fit(train_df[two_features], train_df[\"price\"])    \n",
    "    predictions = knn.predict(test_df[two_features])\n",
    "    mse = mean_squared_error(test_df[\"price\"], predictions)\n",
    "    two_mse_values.append(mse)\n",
    "\n",
    "two_lowest_mse = two_mse_values[0]\n",
    "two_lowest_k = 1\n",
    "\n",
    "for k,mse in enumerate(two_mse_values):\n",
    "    if mse < two_lowest_mse:\n",
    "        two_lowest_mse = mse\n",
    "        two_lowest_k = k+1\n",
    "\n",
    "\n",
    "for hp in hyper_params :\n",
    "    knn = KNeighborsRegressor(n_neighbors=hp, algorithm=\"brute\")\n",
    "    knn.fit(train_df[three_features], train_df[\"price\"])    \n",
    "    predictions = knn.predict(test_df[three_features])\n",
    "    mse = mean_squared_error(test_df[\"price\"], predictions)\n",
    "    three_mse_values.append(mse)\n",
    "\n",
    "three_mse_values = three_mse_values[0]\n",
    "three_lowest_k = 1\n",
    "\n",
    "\n",
    "#for k,mse in enumerate(three_mse_values):\n",
    "#    if mse < three_lowest_mse:\n",
    "#        three_lowest_mse = mse\n",
    "#        three_lowest_k = k+1\n",
    "\n",
    "#utilisation du dictionnaire\n",
    "two_hp_mse[two_lowest_k] = two_lowest_mse\n",
    "#three_hp_mse[three_lowest_k] = three_lowest_mse\n",
    "\n",
    "print(two_hp_mse)\n",
    "#print(three_hp_mse)\n",
    "\n",
    "#graphique\n",
    "#plt.scatter(hyper_params, mse_values)\n",
    "#plt.show()"
   ]
  },
  {
   "cell_type": "code",
   "execution_count": null,
   "metadata": {},
   "outputs": [],
   "source": []
  }
 ],
 "metadata": {
  "kernelspec": {
   "display_name": "Python 3",
   "language": "python",
   "name": "python3"
  },
  "language_info": {
   "codemirror_mode": {
    "name": "ipython",
    "version": 3
   },
   "file_extension": ".py",
   "mimetype": "text/x-python",
   "name": "python",
   "nbconvert_exporter": "python",
   "pygments_lexer": "ipython3",
   "version": "3.8.3"
  }
 },
 "nbformat": 4,
 "nbformat_minor": 4
}

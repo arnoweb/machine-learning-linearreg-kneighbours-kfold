{
 "cells": [
  {
   "cell_type": "code",
   "execution_count": 32,
   "metadata": {},
   "outputs": [
    {
     "name": "stdout",
     "output_type": "stream",
     "text": [
      "     host_response_rate  host_acceptance_rate  host_listings_count  latitude  \\\n",
      "4740                NaN                   NaN                  1.0  48.88285   \n",
      "5606                NaN                   NaN                  1.0  48.86006   \n",
      "4824               100%                   NaN                  3.0  48.88794   \n",
      "4205                60%                   NaN                  1.0  48.88868   \n",
      "3228                90%                   NaN                  1.0  48.88686   \n",
      "\n",
      "      longitude   city zipcode          state  accommodates        room_type  \\\n",
      "4740    2.33852  Paris   75018  Île-de-France             4  Entire home/apt   \n",
      "5606    2.34768  Paris   75001  Île-de-France             3  Entire home/apt   \n",
      "4824    2.34532  Paris   75018  Île-de-France             2  Entire home/apt   \n",
      "4205    2.34111  Paris   75018  Île-de-France             2     Private room   \n",
      "3228    2.33670  Paris   75018  Île-de-France             3  Entire home/apt   \n",
      "\n",
      "      bedrooms  bathrooms  beds  price cleaning_fee security_deposit  \\\n",
      "4740       1.0        1.0   2.0   65.0       $30.00          $200.00   \n",
      "5606       2.0        1.5   2.0   98.0          NaN              NaN   \n",
      "4824       0.0        1.0   1.0   65.0       $30.00        $1,000.00   \n",
      "4205       1.0        1.0   1.0   45.0       $30.00          $200.00   \n",
      "3228       1.0        1.0   2.0   65.0          NaN          $200.00   \n",
      "\n",
      "      minimum_nights  maximum_nights  number_of_reviews  \n",
      "4740               2            1125                  6  \n",
      "5606               5            1124                  1  \n",
      "4824              10            1125                  0  \n",
      "4205               5            1125                 83  \n",
      "3228               5             365                  5  \n"
     ]
    }
   ],
   "source": [
    "import pandas as pd\n",
    "import numpy as np\n",
    "pd.options.mode.chained_assignment = None\n",
    "\n",
    "ar = pd.read_csv(\"paris_airbnb.csv\")\n",
    "ar.iloc[0]\n",
    "\n",
    "stripped_commas = ar[\"price\"].str.replace(\",\",\"\")\n",
    "stripped_dollar = stripped_commas.str.replace(\"$\",\"\")\n",
    "ar[\"price\"] = stripped_dollar.astype(float)\n",
    "\n",
    "#ar.info()\n",
    "#print(ar.head())\n",
    "\n",
    "np.random.seed(1)\n",
    "#ar = ar.loc[np.random.permutation(len(ar))]\n",
    "\n",
    "shuffled_index = np.random.permutation(ar.index)\n",
    "ar = ar.reindex(shuffled_index)\n",
    "\n",
    "split_o = ar.iloc[0:4000]\n",
    "split_t = ar.iloc[4000:]\n",
    "\n",
    "print(ar.head())"
   ]
  },
  {
   "cell_type": "code",
   "execution_count": null,
   "metadata": {},
   "outputs": [],
   "source": []
  }
 ],
 "metadata": {
  "kernelspec": {
   "display_name": "Python 3",
   "language": "python",
   "name": "python3"
  },
  "language_info": {
   "codemirror_mode": {
    "name": "ipython",
    "version": 3
   },
   "file_extension": ".py",
   "mimetype": "text/x-python",
   "name": "python",
   "nbconvert_exporter": "python",
   "pygments_lexer": "ipython3",
   "version": "3.8.3"
  }
 },
 "nbformat": 4,
 "nbformat_minor": 4
}

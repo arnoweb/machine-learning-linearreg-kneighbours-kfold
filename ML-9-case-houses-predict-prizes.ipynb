{
 "cells": [
  {
   "cell_type": "code",
   "execution_count": 196,
   "metadata": {},
   "outputs": [
    {
     "name": "stdout",
     "output_type": "stream",
     "text": [
      "(2930, 82)\n",
      "----------\n",
      "object     43\n",
      "int64      28\n",
      "float64    11\n",
      "dtype: int64\n"
     ]
    }
   ],
   "source": [
    "import pandas as pd\n",
    "import numpy as np\n",
    "import matplotlib.pyplot as plt\n",
    "from sklearn.model_selection import KFold\n",
    "from sklearn.metrics import mean_squared_error\n",
    "from sklearn import linear_model\n",
    "\n",
    "pd.set_option('display.max_columns',500)\n",
    "\n",
    "data = pd.read_csv(\"AmesHousing.tsv\",sep='\\t')\n",
    "\n",
    "print(data.shape)\n",
    "print(len(str(data.shape))*'-')\n",
    "print(data.dtypes.value_counts())\n",
    "#data.head()\n",
    "#data.info()\n"
   ]
  },
  {
   "cell_type": "code",
   "execution_count": 197,
   "metadata": {},
   "outputs": [],
   "source": [
    "def transform_features(df, percent_missing=0.05):\n",
    "    \n",
    "    #Suppression de valeurs manquantes supprimées en fonction du %, ici 5% car 2930 lignes\n",
    "    num_missing = df.isnull().sum()\n",
    "    #print(num_missing)\n",
    "    drop_missing_cols = num_missing[(num_missing > len(df)*percent_missing)].sort_values()\n",
    "    df_clean = df.drop(drop_missing_cols.index, axis=1)\n",
    "    \n",
    "    #colonnes textes : suppression les colonnes avec au moins une valeur manquante\n",
    "    text_mv_counts = df_clean.select_dtypes(include=\"object\").isnull().sum().sort_values(ascending=False)   \n",
    "    #Filtre sur les colonnes contenant au moins une valeur manquante\n",
    "    df_clean = df_clean.drop(text_mv_counts[text_mv_counts > 0].index, axis=1)\n",
    "    print(df_clean.shape[1])\n",
    "    \n",
    "    #Colonnes numériques : on remplace la valeur manquante par la valeur la plus fréquente de la colonne\n",
    "    num_missing = df_clean.select_dtypes(include=[\"float\",\"integer\"]).isnull().sum()\n",
    "    fix_num_missing_cols = num_missing[(num_missing < len(df_clean)*percent_missing) & (num_missing > 0)].sort_values()\n",
    "    replace_val_dict = df_clean[fix_num_missing_cols.index].mode().to_dict(orient='records')[0]\n",
    "    df_clean = df_clean.fillna(replace_val_dict)\n",
    "    df_clean.isnull().sum().value_counts()\n",
    "    print(df_clean.shape[1])\n",
    "    #print(len(df))\n",
    "    \n",
    "    #Nouvelles caractéristiques à partir de celles existantes\n",
    "    years_sold = df_clean[\"Yr Sold\"] - df_clean[\"Year Built\"]\n",
    "    years_sold[years_sold < 0]\n",
    "    years_since_remod = df_clean[\"Yr Sold\"] - df_clean[\"Year Remod/Add\"]\n",
    "    years_since_remod[years_since_remod < 0]\n",
    "    #Creation de 2 nouvelles colonnes\n",
    "    df_clean[\"Years before Sole\"] = years_sold\n",
    "    df_clean[\"Years since Remod\"] = years_since_remod\n",
    "    #Suppression des valeurs négatives\n",
    "    df_clean = df_clean.drop([1702, 2180, 2181], axis=0)\n",
    "    #Suppression des colonnes d'origine\n",
    "    df_clean.drop([\"Year Built\",\"Year Remod/Add\"], axis=1)\n",
    "    \n",
    "    #Supprimer les colonnes qui ne sont pas utiles pour le ML\n",
    "    df_clean.drop([\"PID\",\"Order\"], axis=1)\n",
    "    #Supprimer les colonnes des fuites de données\n",
    "    df_clean.drop([\"Mo Sold\",\"Sale Condition\",\"Sale Type\",\"Yr Sold\"], axis=1)\n",
    "    \n",
    "    df_clean.head()\n",
    "    \n",
    "    return df_clean\n",
    "    "
   ]
  },
  {
   "cell_type": "code",
   "execution_count": 198,
   "metadata": {},
   "outputs": [],
   "source": [
    "def select_features(df, coeff_corr=0.4):\n",
    "    \n",
    "    #selection des caractéristiques numériques et on étudie leur correlation avec SalePrice\n",
    "    df = df.select_dtypes(include=[\"int\",\"float\"])\n",
    "    abs_corr_coeffs = df.corr()[\"SalePrice\"].abs().sort_values()\n",
    "    abs_corr_coeffs[abs_corr_coeffs > coeff_corr]\n",
    "    #Suppression des colonnes avec coeff de corrélation inférieur de 0.4 avec SalePrice\n",
    "    transform_df = df.drop(abs_corr_coeffs[abs_corr_coeffs < coeff_corr].index, axis=1)\n",
    "    transform_df.shape[1]\n",
    "    \n",
    "    #Colonnes qui sont catégoriques\n",
    "    nominal_features = [\"PID\",\"MS SubClass\",\"MS Zoning\",\"Street\",\"Alley\"]\n",
    "    transform_cat_cols = []\n",
    "    for col in nominal_features:\n",
    "        if col in transform_df.columns:\n",
    "            transform_cat_cols.append(col)\n",
    "    \n",
    "    \n",
    "    #print(transform_cat_cols)\n",
    "    transform_df = df[[\"Gr Liv Area\",\"SalePrice\"]]\n",
    "    \n",
    "    return transform_df\n",
    "    "
   ]
  },
  {
   "cell_type": "code",
   "execution_count": 199,
   "metadata": {},
   "outputs": [],
   "source": [
    "def train_and_test(data, k=0):\n",
    "    \n",
    "    numeric_train = data.select_dtypes(include=[\"integer\",\"float\"])\n",
    "    numeric_test  = data.select_dtypes(include=[\"integer\",\"float\"])\n",
    "    \n",
    "    lr = linear_model.LinearRegression()\n",
    "    \n",
    "    if k == 0:\n",
    "    \n",
    "        train = data.iloc[0:1460] \n",
    "        test  = data.iloc[1460:]\n",
    "    \n",
    "        features = numeric_train.columns.drop(\"SalePrice\")\n",
    "    \n",
    "        #Entrainement\n",
    "        lr.fit(train[features],train[\"SalePrice\"])\n",
    "    \n",
    "        #Prediction\n",
    "        test_predictions  = lr.predict(test[features])\n",
    "        test_mse = mean_squared_error(test_predictions, test[\"SalePrice\"])\n",
    "    \n",
    "        test_rmse = np.sqrt(test_mse)\n",
    "    \n",
    "        return test_rmse\n",
    "\n",
    "    if k == 1:\n",
    "    \n",
    "        shuffled_data = data.sample(frac=1,)\n",
    "        train = data.iloc[0:1460] \n",
    "        test  = data.iloc[1460:]\n",
    "    \n",
    "        features = numeric_train.columns.drop(\"SalePrice\")\n",
    "    \n",
    "        #Entrainement sur les données d'entrainement\n",
    "        lr.fit(train[features],train[\"SalePrice\"])\n",
    "    \n",
    "        #Prediction sur les données de test\n",
    "        test_predictions_one  = lr.predict(test[features])\n",
    "    \n",
    "        test_mse_one = mean_squared_error(test_predictions_one, test[\"SalePrice\"])\n",
    "        test_rmse_one = np.sqrt(test_mse_one)\n",
    "    \n",
    "    \n",
    "        #Entrainement sur les données de test\n",
    "        lr.fit(test[features],test[\"SalePrice\"])\n",
    "    \n",
    "        #Prediction sur les données d'entraienement\n",
    "        train_predictions_two  = lr.predict(train[features])\n",
    "    \n",
    "        train_mse_two = mean_squared_error(train_predictions_two, train[\"SalePrice\"])\n",
    "        train_rmse_two = np.sqrt(train_mse_two)    \n",
    "    \n",
    "        avg_rmse = np.mean([test_rmse_one, train_rmse_two])\n",
    "    \n",
    "        return avg_rmse\n",
    "\n",
    "    else:\n",
    "        \n",
    "        kf = KFold(n_splits=k, shuffle=True)\n",
    "        rmse_values=[]\n",
    "        features = numeric_train.columns.drop(\"SalePrice\")\n",
    "        \n",
    "        for train_index, test_index in kf.split(data):\n",
    "            train = data.iloc[train_index]\n",
    "            test  = data.iloc[test_index]\n",
    "            \n",
    "            lr.fit(train[features], train[\"SalePrice\"])\n",
    "            predictions = lr.predict(test[features])\n",
    "            \n",
    "            mse = mean_squared_error(predictions, test[\"SalePrice\"])\n",
    "            rmse = np.sqrt(mse)\n",
    "            rmse_values.append(rmse)\n",
    "\n",
    "        #print(rmse_values)\n",
    "        avg_rmse = np.mean(rmse_values)\n",
    "        \n",
    "        return avg_rmse\n",
    "    "
   ]
  },
  {
   "cell_type": "code",
   "execution_count": 200,
   "metadata": {},
   "outputs": [
    {
     "name": "stdout",
     "output_type": "stream",
     "text": [
      "64\n",
      "64\n"
     ]
    },
    {
     "data": {
      "text/plain": [
       "Text(0, 0.5, 'RMSE')"
      ]
     },
     "execution_count": 200,
     "metadata": {},
     "output_type": "execute_result"
    },
    {
     "data": {
      "image/png": "[encoded data removed]",
      "text/plain": [
       "<Figure size 432x288 with 1 Axes>"
      ]
     },
     "metadata": {
      "needs_background": "light"
     },
     "output_type": "display_data"
    }
   ],
   "source": [
    "transform_df = transform_features(data, 0.05)\n",
    "filtered_df = select_features(transform_df, 0.4)\n",
    "\n",
    "results=[]\n",
    "for i in range(100):\n",
    "    result = train_and_test(filtered_df,k=i)\n",
    "    results.append(result)\n",
    "    \n",
    "x = [i for i in range(100)]\n",
    "y = results\n",
    "plt.plot(x,y)\n",
    "plt.xlabel(\"Kfolds\")\n",
    "plt.ylabel(\"RMSE\")\n"
   ]
  },
  {
   "cell_type": "code",
   "execution_count": null,
   "metadata": {},
   "outputs": [],
   "source": []
  },
  {
   "cell_type": "code",
   "execution_count": null,
   "metadata": {},
   "outputs": [],
   "source": []
  }
 ],
 "metadata": {
  "kernelspec": {
   "display_name": "Python 3",
   "language": "python",
   "name": "python3"
  },
  "language_info": {
   "codemirror_mode": {
    "name": "ipython",
    "version": 3
   },
   "file_extension": ".py",
   "mimetype": "text/x-python",
   "name": "python",
   "nbconvert_exporter": "python",
   "pygments_lexer": "ipython3",
   "version": "3.8.3"
  }
 },
 "nbformat": 4,
 "nbformat_minor": 4
}

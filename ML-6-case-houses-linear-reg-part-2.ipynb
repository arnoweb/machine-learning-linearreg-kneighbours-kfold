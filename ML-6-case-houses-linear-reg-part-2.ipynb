{
 "cells": [
  {
   "cell_type": "markdown",
   "metadata": {},
   "source": [
    "LINEAR REGRESSION WITH HOUSES"
   ]
  },
  {
   "cell_type": "code",
   "execution_count": 25,
   "metadata": {},
   "outputs": [
    {
     "name": "stdout",
     "output_type": "stream",
     "text": [
      "Order              0\n",
      "MS SubClass        0\n",
      "Lot Area           0\n",
      "Overall Qual       0\n",
      "Overall Cond       0\n",
      "Year Built         0\n",
      "1st Flr SF         0\n",
      "2nd Flr SF         0\n",
      "Low Qual Fin SF    0\n",
      "Gr Liv Area        0\n",
      "Full Bath          0\n",
      "Half Bath          0\n",
      "Bedroom AbvGr      0\n",
      "Kitchen AbvGr      0\n",
      "TotRms AbvGrd      0\n",
      "Fireplaces         0\n",
      "Garage Cars        0\n",
      "Garage Area        0\n",
      "Wood Deck SF       0\n",
      "Open Porch SF      0\n",
      "Enclosed Porch     0\n",
      "3Ssn Porch         0\n",
      "Screen Porch       0\n",
      "Pool Area          0\n",
      "Misc Val           0\n",
      "SalePrice          0\n",
      "dtype: int64\n"
     ]
    },
    {
     "data": {
      "text/html": [
       "<div>\n",
       "<style scoped>\n",
       "    .dataframe tbody tr th:only-of-type {\n",
       "        vertical-align: middle;\n",
       "    }\n",
       "\n",
       "    .dataframe tbody tr th {\n",
       "        vertical-align: top;\n",
       "    }\n",
       "\n",
       "    .dataframe thead th {\n",
       "        text-align: right;\n",
       "    }\n",
       "</style>\n",
       "<table border=\"1\" class=\"dataframe\">\n",
       "  <thead>\n",
       "    <tr style=\"text-align: right;\">\n",
       "      <th></th>\n",
       "      <th>Garage Area</th>\n",
       "      <th>Gr Liv Area</th>\n",
       "      <th>Overall Cond</th>\n",
       "      <th>SalePrice</th>\n",
       "    </tr>\n",
       "  </thead>\n",
       "  <tbody>\n",
       "    <tr>\n",
       "      <th>Garage Area</th>\n",
       "      <td>1.000000</td>\n",
       "      <td>0.463455</td>\n",
       "      <td>-0.121328</td>\n",
       "      <td>0.659605</td>\n",
       "    </tr>\n",
       "    <tr>\n",
       "      <th>Gr Liv Area</th>\n",
       "      <td>0.463455</td>\n",
       "      <td>1.000000</td>\n",
       "      <td>-0.128075</td>\n",
       "      <td>0.697764</td>\n",
       "    </tr>\n",
       "    <tr>\n",
       "      <th>Overall Cond</th>\n",
       "      <td>-0.121328</td>\n",
       "      <td>-0.128075</td>\n",
       "      <td>1.000000</td>\n",
       "      <td>-0.093996</td>\n",
       "    </tr>\n",
       "    <tr>\n",
       "      <th>SalePrice</th>\n",
       "      <td>0.659605</td>\n",
       "      <td>0.697764</td>\n",
       "      <td>-0.093996</td>\n",
       "      <td>1.000000</td>\n",
       "    </tr>\n",
       "  </tbody>\n",
       "</table>\n",
       "</div>"
      ],
      "text/plain": [
       "              Garage Area  Gr Liv Area  Overall Cond  SalePrice\n",
       "Garage Area      1.000000     0.463455     -0.121328   0.659605\n",
       "Gr Liv Area      0.463455     1.000000     -0.128075   0.697764\n",
       "Overall Cond    -0.121328    -0.128075      1.000000  -0.093996\n",
       "SalePrice        0.659605     0.697764     -0.093996   1.000000"
      ]
     },
     "execution_count": 25,
     "metadata": {},
     "output_type": "execute_result"
    }
   ],
   "source": [
    "import pandas as pd\n",
    "import numpy as np\n",
    "\n",
    "houses = pd.read_csv(\"AmesHousing.txt\",sep=\"\\t\")\n",
    "\n",
    "train = houses.iloc[0:1400]\n",
    "test  = houses.iloc[1400:]\n",
    "\n",
    "target = \"SalePrice\"\n",
    "\n",
    "#on sélectionne les valeurs numériques\n",
    "numerical_train = train.select_dtypes(include=['int','float'])\n",
    "\n",
    "#on supprime les colonnes inutiles\n",
    "drop_cols = [\"PID\",\"Year Remod/Add\",\"Garage Yr Blt\",\"Mo Sold\",\"Yr Sold\"]\n",
    "numerical_train = numerical_train.drop(drop_cols, axis=1)\n",
    "\n",
    "#calcul des valeurs manquantes\n",
    "null_series = numerical_train.isnull().sum()\n",
    "\n",
    "#on garde les données avec aucune valeur manquante\n",
    "full_cols_series = null_series[null_series == 0]\n",
    "\n",
    "#aucune colonnes manquantes\n",
    "print(full_cols_series)\n",
    "\n",
    "#evaluation de la correlation entre les caractéristiques et le prix\n",
    "train[[\"Garage Area\",\"Gr Liv Area\",\"Overall Cond\",\"SalePrice\"]].corr()\n",
    "\n"
   ]
  },
  {
   "cell_type": "code",
   "execution_count": 29,
   "metadata": {},
   "outputs": [
    {
     "name": "stdout",
     "output_type": "stream",
     "text": [
      "Misc Val           0.014813\n",
      "3Ssn Porch         0.037513\n",
      "Low Qual Fin SF    0.060403\n",
      "MS SubClass        0.083460\n",
      "Order              0.092084\n",
      "Overall Cond       0.093996\n",
      "Screen Porch       0.094435\n",
      "Bedroom AbvGr      0.103400\n",
      "Kitchen AbvGr      0.130889\n",
      "Pool Area          0.148196\n",
      "Enclosed Porch     0.165717\n",
      "2nd Flr SF         0.201196\n",
      "Half Bath          0.271517\n",
      "Lot Area           0.272701\n",
      "Wood Deck SF       0.324237\n",
      "Open Porch SF      0.348723\n",
      "Fireplaces         0.477546\n",
      "TotRms AbvGrd      0.482716\n",
      "Full Bath          0.514917\n",
      "Year Built         0.595323\n",
      "1st Flr SF         0.657409\n",
      "Garage Area        0.659605\n",
      "Garage Cars        0.664401\n",
      "Gr Liv Area        0.697764\n",
      "Overall Qual       0.807250\n",
      "SalePrice          1.000000\n",
      "Name: SalePrice, dtype: float64\n"
     ]
    }
   ],
   "source": [
    "#nombre de colonnes\n",
    "len(full_cols_series)\n",
    "\n",
    "#le index permet de récupérer le noms des colonnes\n",
    "train_subset = train[full_cols_series.index]\n",
    "\n",
    "#matrice des coeff de correlation\n",
    "corrmat = train_subset.corr()\n",
    "\n",
    "sorted_corrs = corrmat[\"SalePrice\"].abs().sort_values()\n",
    "\n",
    "print(sorted_corrs)\n"
   ]
  },
  {
   "cell_type": "code",
   "execution_count": 30,
   "metadata": {},
   "outputs": [
    {
     "data": {
      "text/plain": [
       "<AxesSubplot:>"
      ]
     },
     "execution_count": 30,
     "metadata": {},
     "output_type": "execute_result"
    },
    {
     "data": {
      "image/png": "[encoded data removed]",
      "text/plain": [
       "<Figure size 432x288 with 2 Axes>"
      ]
     },
     "metadata": {
      "needs_background": "light"
     },
     "output_type": "display_data"
    }
   ],
   "source": [
    "import seaborn as sb\n",
    "\n",
    "#selection des correlations > à 0,3, c'est arbitraire, on peut faire varier pour vérifier la précision\n",
    "strong_corrs = sorted_corrs[sorted_corrs > 0.3]\n",
    "corrmat = train_subset[strong_corrs.index].corr()\n",
    "\n",
    "#trace de la heatmap\n",
    "sb.heatmap(corrmat)\n"
   ]
  },
  {
   "cell_type": "code",
   "execution_count": 31,
   "metadata": {},
   "outputs": [
    {
     "name": "stdout",
     "output_type": "stream",
     "text": [
      "<class 'pandas.core.frame.DataFrame'>\n",
      "RangeIndex: 1530 entries, 1400 to 2929\n",
      "Data columns (total 10 columns):\n",
      " #   Column         Non-Null Count  Dtype  \n",
      "---  ------         --------------  -----  \n",
      " 0   Wood Deck SF   1530 non-null   int64  \n",
      " 1   Open Porch SF  1530 non-null   int64  \n",
      " 2   Fireplaces     1530 non-null   int64  \n",
      " 3   Full Bath      1530 non-null   int64  \n",
      " 4   Year Built     1530 non-null   int64  \n",
      " 5   1st Flr SF     1530 non-null   int64  \n",
      " 6   Garage Area    1529 non-null   float64\n",
      " 7   Gr Liv Area    1530 non-null   int64  \n",
      " 8   Overall Qual   1530 non-null   int64  \n",
      " 9   SalePrice      1530 non-null   int64  \n",
      "dtypes: float64(1), int64(9)\n",
      "memory usage: 119.7 KB\n"
     ]
    }
   ],
   "source": [
    "#on supprime les colonnes où les valeurs sont moins continues (cf doc des caractéristiques), qui créé de la co-linéarité\n",
    "final_corr_cols = strong_corrs.drop([\"Garage Cars\",\"TotRms AbvGrd\"])\n",
    "test[final_corr_cols.index].info()\n"
   ]
  },
  {
   "cell_type": "code",
   "execution_count": 37,
   "metadata": {},
   "outputs": [
    {
     "name": "stdout",
     "output_type": "stream",
     "text": [
      "32881.2518713885\n",
      "40199.47303228314\n"
     ]
    }
   ],
   "source": [
    "from sklearn.linear_model import LinearRegression\n",
    "from sklearn.metrics import mean_squared_error\n",
    "\n",
    "#on constate que la colonne Garage Area a 1529 contre 1530 pour les autres\n",
    "features = final_corr_cols.drop([\"SalePrice\"]).index\n",
    "target = \"SalePrice\"\n",
    "clean_test = test[final_corr_cols.index].dropna()\n",
    "\n",
    "#regression\n",
    "lr = LinearRegression()\n",
    "\n",
    "lr.fit(train[features],train[\"SalePrice\"])\n",
    "\n",
    "train_predictions = lr.predict(train[features])\n",
    "test_predictions = lr.predict(clean_test[features])\n",
    "\n",
    "train_mse = mean_squared_error(train_predictions, train[target])\n",
    "test_mse  = mean_squared_error(test_predictions, clean_test[target])\n",
    "\n",
    "train_rmse = np.sqrt(train_mse)\n",
    "test_rmse  = np.sqrt(test_mse)\n",
    "\n",
    "print(train_rmse)\n",
    "print(test_rmse)\n"
   ]
  },
  {
   "cell_type": "code",
   "execution_count": null,
   "metadata": {},
   "outputs": [],
   "source": []
  }
 ],
 "metadata": {
  "kernelspec": {
   "display_name": "Python 3",
   "language": "python",
   "name": "python3"
  },
  "language_info": {
   "codemirror_mode": {
    "name": "ipython",
    "version": 3
   },
   "file_extension": ".py",
   "mimetype": "text/x-python",
   "name": "python",
   "nbconvert_exporter": "python",
   "pygments_lexer": "ipython3",
   "version": "3.8.3"
  }
 },
 "nbformat": 4,
 "nbformat_minor": 4
}
